{
 "cells": [
  {
   "cell_type": "markdown",
   "id": "c3ef19ee-5e6e-467b-af49-43928104b270",
   "metadata": {},
   "source": [
    "# Tarea 5 - Regresión Logística - Bryan Rodríguez "
   ]
  },
  {
   "cell_type": "code",
   "execution_count": 2,
   "id": "65e9ad25-ae54-4f8f-8a10-79ec22556823",
   "metadata": {},
   "outputs": [],
   "source": [
    "#Cargar las librerias necesarias\n",
    "import pandas as pd # Manejo y análisis de estructuras de datos\n",
    "import numpy as np # Cálculo numérico y el análisis de datos\n",
    "import seaborn as sns # Creación gráficos estadísticos\n",
    "import matplotlib.pyplot as plt # Creación de gráficos en dos dimensiones\n",
    "\n",
    "# librerías de para implementar modelos de ciencia de datos\n",
    "from sklearn import metrics\n",
    "from sklearn.model_selection import train_test_split\n",
    "from sklearn.linear_model import LogisticRegression\n",
    "from sklearn.metrics import classification_report, confusion_matrix"
   ]
  },
  {
   "cell_type": "code",
   "execution_count": 3,
   "id": "3e9b30f7-9556-49ee-b104-ed7d483b20bf",
   "metadata": {},
   "outputs": [
    {
     "data": {
      "text/html": [
       "<div>\n",
       "<style scoped>\n",
       "    .dataframe tbody tr th:only-of-type {\n",
       "        vertical-align: middle;\n",
       "    }\n",
       "\n",
       "    .dataframe tbody tr th {\n",
       "        vertical-align: top;\n",
       "    }\n",
       "\n",
       "    .dataframe thead th {\n",
       "        text-align: right;\n",
       "    }\n",
       "</style>\n",
       "<table border=\"1\" class=\"dataframe\">\n",
       "  <thead>\n",
       "    <tr style=\"text-align: right;\">\n",
       "      <th></th>\n",
       "      <th>PassengerId</th>\n",
       "      <th>Survived</th>\n",
       "      <th>Pclass</th>\n",
       "      <th>Name</th>\n",
       "      <th>Sex</th>\n",
       "      <th>Age</th>\n",
       "      <th>SibSp</th>\n",
       "      <th>Parch</th>\n",
       "      <th>Ticket</th>\n",
       "      <th>Fare</th>\n",
       "      <th>Cabin</th>\n",
       "      <th>Embarked</th>\n",
       "    </tr>\n",
       "  </thead>\n",
       "  <tbody>\n",
       "    <tr>\n",
       "      <th>0</th>\n",
       "      <td>1</td>\n",
       "      <td>0</td>\n",
       "      <td>3</td>\n",
       "      <td>Braund, Mr. Owen Harris</td>\n",
       "      <td>male</td>\n",
       "      <td>22.0</td>\n",
       "      <td>1</td>\n",
       "      <td>0</td>\n",
       "      <td>A/5 21171</td>\n",
       "      <td>7.2500</td>\n",
       "      <td>NaN</td>\n",
       "      <td>S</td>\n",
       "    </tr>\n",
       "    <tr>\n",
       "      <th>1</th>\n",
       "      <td>2</td>\n",
       "      <td>1</td>\n",
       "      <td>1</td>\n",
       "      <td>Cumings, Mrs. John Bradley (Florence Briggs Th...</td>\n",
       "      <td>female</td>\n",
       "      <td>38.0</td>\n",
       "      <td>1</td>\n",
       "      <td>0</td>\n",
       "      <td>PC 17599</td>\n",
       "      <td>71.2833</td>\n",
       "      <td>C85</td>\n",
       "      <td>C</td>\n",
       "    </tr>\n",
       "    <tr>\n",
       "      <th>2</th>\n",
       "      <td>3</td>\n",
       "      <td>1</td>\n",
       "      <td>3</td>\n",
       "      <td>Heikkinen, Miss. Laina</td>\n",
       "      <td>female</td>\n",
       "      <td>26.0</td>\n",
       "      <td>0</td>\n",
       "      <td>0</td>\n",
       "      <td>STON/O2. 3101282</td>\n",
       "      <td>7.9250</td>\n",
       "      <td>NaN</td>\n",
       "      <td>S</td>\n",
       "    </tr>\n",
       "    <tr>\n",
       "      <th>3</th>\n",
       "      <td>4</td>\n",
       "      <td>1</td>\n",
       "      <td>1</td>\n",
       "      <td>Futrelle, Mrs. Jacques Heath (Lily May Peel)</td>\n",
       "      <td>female</td>\n",
       "      <td>35.0</td>\n",
       "      <td>1</td>\n",
       "      <td>0</td>\n",
       "      <td>113803</td>\n",
       "      <td>53.1000</td>\n",
       "      <td>C123</td>\n",
       "      <td>S</td>\n",
       "    </tr>\n",
       "    <tr>\n",
       "      <th>4</th>\n",
       "      <td>5</td>\n",
       "      <td>0</td>\n",
       "      <td>3</td>\n",
       "      <td>Allen, Mr. William Henry</td>\n",
       "      <td>male</td>\n",
       "      <td>35.0</td>\n",
       "      <td>0</td>\n",
       "      <td>0</td>\n",
       "      <td>373450</td>\n",
       "      <td>8.0500</td>\n",
       "      <td>NaN</td>\n",
       "      <td>S</td>\n",
       "    </tr>\n",
       "  </tbody>\n",
       "</table>\n",
       "</div>"
      ],
      "text/plain": [
       "   PassengerId  Survived  Pclass  \\\n",
       "0            1         0       3   \n",
       "1            2         1       1   \n",
       "2            3         1       3   \n",
       "3            4         1       1   \n",
       "4            5         0       3   \n",
       "\n",
       "                                                Name     Sex   Age  SibSp  \\\n",
       "0                            Braund, Mr. Owen Harris    male  22.0      1   \n",
       "1  Cumings, Mrs. John Bradley (Florence Briggs Th...  female  38.0      1   \n",
       "2                             Heikkinen, Miss. Laina  female  26.0      0   \n",
       "3       Futrelle, Mrs. Jacques Heath (Lily May Peel)  female  35.0      1   \n",
       "4                           Allen, Mr. William Henry    male  35.0      0   \n",
       "\n",
       "   Parch            Ticket     Fare Cabin Embarked  \n",
       "0      0         A/5 21171   7.2500   NaN        S  \n",
       "1      0          PC 17599  71.2833   C85        C  \n",
       "2      0  STON/O2. 3101282   7.9250   NaN        S  \n",
       "3      0            113803  53.1000  C123        S  \n",
       "4      0            373450   8.0500   NaN        S  "
      ]
     },
     "execution_count": 3,
     "metadata": {},
     "output_type": "execute_result"
    }
   ],
   "source": [
    "#Creación y lectura de datos \n",
    "Datos = pd.read_csv('./Titanic-Dataset.csv')\n",
    "\n",
    "Datos.head(5)"
   ]
  },
  {
   "cell_type": "code",
   "execution_count": 4,
   "id": "ba9c4289-752c-4b9f-83eb-39ffaa2b421d",
   "metadata": {},
   "outputs": [
    {
     "data": {
      "text/plain": [
       "Text(0.5, 1.0, 'Identificación de Datos Faltantes y Atípicos')"
      ]
     },
     "execution_count": 4,
     "metadata": {},
     "output_type": "execute_result"
    },
    {
     "data": {
      "image/png": "[encoded data removed]",
      "text/plain": [
       "<Figure size 600x300 with 1 Axes>"
      ]
     },
     "metadata": {},
     "output_type": "display_data"
    }
   ],
   "source": [
    "#Identificación de Datos Faltantes y Atípicos\n",
    "\n",
    "plt.figure(figsize=(6, 3))\n",
    "sns.boxplot(x=Datos['Age'])\n",
    "plt.title('Identificación de Datos Faltantes y Atípicos', fontsize=10 )"
   ]
  },
  {
   "cell_type": "code",
   "execution_count": 5,
   "id": "88f327c5-8d9b-4a92-9c8d-e6a4069a06d5",
   "metadata": {},
   "outputs": [
    {
     "name": "stdout",
     "output_type": "stream",
     "text": [
      "Cantidad de Registros con cero en Clase:  0\n",
      "Cantidad de Registros con cero en Edad:  0\n",
      "Cantidad de Registros con cero en Embarcamiento:  0\n"
     ]
    }
   ],
   "source": [
    "#Revisión de datos faltantes\n",
    "print(\"Cantidad de Registros con cero en Clase: \",Datos['Pclass'].isin([0]).sum())\n",
    "print(\"Cantidad de Registros con cero en Edad: \",Datos['Age'].isin([0]).sum())\n",
    "print(\"Cantidad de Registros con cero en Embarcamiento: \",Datos['Embarked'].isin([0]).sum())"
   ]
  },
  {
   "cell_type": "code",
   "execution_count": 6,
   "id": "8f27cb3e-bc15-4ce1-83e8-05996698b97f",
   "metadata": {},
   "outputs": [
    {
     "data": {
      "text/plain": [
       "Text(0.5, 1.0, 'Identificación de Datos Atípicos - Embarcamiento')"
      ]
     },
     "execution_count": 6,
     "metadata": {},
     "output_type": "execute_result"
    },
    {
     "data": {
      "image/png": "[encoded data removed]",
      "text/plain": [
       "<Figure size 600x300 with 1 Axes>"
      ]
     },
     "metadata": {},
     "output_type": "display_data"
    }
   ],
   "source": [
    "#Identificación de Datos Atípicos\n",
    "plt.figure(figsize=(6, 3))\n",
    "sns.boxplot(x=Datos['Embarked'])\n",
    "plt.title('Identificación de Datos Atípicos - Embarcamiento', fontsize=10 )"
   ]
  },
  {
   "cell_type": "code",
   "execution_count": 7,
   "id": "f3f96d18-70a9-46a8-9c5b-e51a5ce29f35",
   "metadata": {},
   "outputs": [
    {
     "name": "stdout",
     "output_type": "stream",
     "text": [
      "El total de datos atípicos en Age es: 7\n"
     ]
    }
   ],
   "source": [
    "#Variables importantes identificadas:\n",
    "#Conteo de Datos Atípicos - Edad\n",
    "nivel_minimo_Age=1\n",
    "nivel_maximo_Age=80 \n",
    "Total_Atp_Age=((Datos['Age']<nivel_minimo_Age)|(Datos['Age']>nivel_maximo_Age)).sum()\n",
    "print(\"El total de datos atípicos en Age es: {}\".format(Total_Atp_Age))"
   ]
  },
  {
   "cell_type": "code",
   "execution_count": 8,
   "id": "4b0552c2-5785-4b06-8d88-bacbdc3acd51",
   "metadata": {},
   "outputs": [
    {
     "name": "stdout",
     "output_type": "stream",
     "text": [
      "El total de datos atípicos en Pclass es: 0\n"
     ]
    }
   ],
   "source": [
    "#Conteo de Datos Atípicos - Clase \n",
    "nivel_minimo_op=0 \n",
    "nivel_maximo_op=3 \n",
    "Total_Atp_op=((Datos['Pclass']<nivel_minimo_op)|(Datos['Pclass']>nivel_maximo_op)).sum()\n",
    "print(\"El total de datos atípicos en Pclass es: {}\".format(Total_Atp_op))"
   ]
  },
  {
   "cell_type": "code",
   "execution_count": 44,
   "id": "7ff7afea-c39f-40f1-9c75-c8814ddfac90",
   "metadata": {},
   "outputs": [
    {
     "name": "stdout",
     "output_type": "stream",
     "text": [
      "El total de datos atípicos - Age es 0\n"
     ]
    }
   ],
   "source": [
    "# Filtra Datos Atípicos - Edad\n",
    "Datos=Datos[(Datos['Age']<nivel_maximo_Age)&(Datos['Age']>nivel_minimo_Age)]\n",
    "\n",
    "# Validar si se removieron los datos atípicos\n",
    "Total_Atp_Age=((Datos['Age']<nivel_minimo_Age)|(Datos['Age']>nivel_maximo_Age)).sum()\n",
    "print(\"El total de datos atípicos - Age es {}\".format(Total_Atp_Age))"
   ]
  },
  {
   "cell_type": "code",
   "execution_count": 46,
   "id": "7db5a8a9-6e1b-4743-9158-aea91b68279e",
   "metadata": {},
   "outputs": [],
   "source": [
    "# Reemplazar todos los ceros con el valor medio (promedio) de la columna.\n",
    "\n",
    "Datos['Age']=Datos['Age'].replace(0,Datos['Age'].mean())\n",
    "Datos['Pclass']=Datos['Pclass'].replace(0,Datos['Pclass'].mean())"
   ]
  },
  {
   "cell_type": "code",
   "execution_count": 12,
   "id": "ed8e8d51-0d0f-4769-9dab-61f3ce42d2e8",
   "metadata": {},
   "outputs": [
    {
     "name": "stdout",
     "output_type": "stream",
     "text": [
      "<class 'pandas.core.frame.DataFrame'>\n",
      "Index: 699 entries, 0 to 890\n",
      "Data columns (total 12 columns):\n",
      " #   Column       Non-Null Count  Dtype  \n",
      "---  ------       --------------  -----  \n",
      " 0   PassengerId  699 non-null    int64  \n",
      " 1   Survived     699 non-null    int64  \n",
      " 2   Pclass       699 non-null    int64  \n",
      " 3   Name         699 non-null    object \n",
      " 4   Sex          699 non-null    object \n",
      " 5   Age          699 non-null    float64\n",
      " 6   SibSp        699 non-null    int64  \n",
      " 7   Parch        699 non-null    int64  \n",
      " 8   Ticket       699 non-null    object \n",
      " 9   Fare         699 non-null    float64\n",
      " 10  Cabin        182 non-null    object \n",
      " 11  Embarked     697 non-null    object \n",
      "dtypes: float64(2), int64(5), object(5)\n",
      "memory usage: 71.0+ KB\n"
     ]
    }
   ],
   "source": [
    "#Revisión del tipo de datos y datos faltantes\n",
    "Datos.info()"
   ]
  },
  {
   "cell_type": "code",
   "execution_count": 13,
   "id": "3f197bb4-41fb-48db-91e1-a84385422746",
   "metadata": {},
   "outputs": [
    {
     "data": {
      "text/plain": [
       "Survived\n",
       "0    422\n",
       "1    277\n",
       "Name: count, dtype: int64"
      ]
     },
     "execution_count": 13,
     "metadata": {},
     "output_type": "execute_result"
    }
   ],
   "source": [
    "# Total de personas que sobrevivieron (1)\n",
    "Datos['Survived'].value_counts()"
   ]
  },
  {
   "cell_type": "code",
   "execution_count": 14,
   "id": "655a221a-721c-4ce5-adf8-a4848a6ad03f",
   "metadata": {},
   "outputs": [
    {
     "data": {
      "text/html": [
       "<div>\n",
       "<style scoped>\n",
       "    .dataframe tbody tr th:only-of-type {\n",
       "        vertical-align: middle;\n",
       "    }\n",
       "\n",
       "    .dataframe tbody tr th {\n",
       "        vertical-align: top;\n",
       "    }\n",
       "\n",
       "    .dataframe thead th {\n",
       "        text-align: right;\n",
       "    }\n",
       "</style>\n",
       "<table border=\"1\" class=\"dataframe\">\n",
       "  <thead>\n",
       "    <tr style=\"text-align: right;\">\n",
       "      <th></th>\n",
       "      <th>Survived</th>\n",
       "    </tr>\n",
       "  </thead>\n",
       "  <tbody>\n",
       "    <tr>\n",
       "      <th>0</th>\n",
       "      <td>0</td>\n",
       "    </tr>\n",
       "    <tr>\n",
       "      <th>1</th>\n",
       "      <td>1</td>\n",
       "    </tr>\n",
       "    <tr>\n",
       "      <th>2</th>\n",
       "      <td>1</td>\n",
       "    </tr>\n",
       "    <tr>\n",
       "      <th>3</th>\n",
       "      <td>1</td>\n",
       "    </tr>\n",
       "    <tr>\n",
       "      <th>4</th>\n",
       "      <td>0</td>\n",
       "    </tr>\n",
       "    <tr>\n",
       "      <th>6</th>\n",
       "      <td>0</td>\n",
       "    </tr>\n",
       "    <tr>\n",
       "      <th>7</th>\n",
       "      <td>0</td>\n",
       "    </tr>\n",
       "    <tr>\n",
       "      <th>8</th>\n",
       "      <td>1</td>\n",
       "    </tr>\n",
       "    <tr>\n",
       "      <th>9</th>\n",
       "      <td>1</td>\n",
       "    </tr>\n",
       "    <tr>\n",
       "      <th>10</th>\n",
       "      <td>1</td>\n",
       "    </tr>\n",
       "  </tbody>\n",
       "</table>\n",
       "</div>"
      ],
      "text/plain": [
       "    Survived\n",
       "0          0\n",
       "1          1\n",
       "2          1\n",
       "3          1\n",
       "4          0\n",
       "6          0\n",
       "7          0\n",
       "8          1\n",
       "9          1\n",
       "10         1"
      ]
     },
     "execution_count": 14,
     "metadata": {},
     "output_type": "execute_result"
    }
   ],
   "source": [
    "Datos[['Survived']].head(10)"
   ]
  },
  {
   "cell_type": "code",
   "execution_count": 15,
   "id": "c0fc72cb-46a8-4711-8913-ca28bda6c594",
   "metadata": {},
   "outputs": [
    {
     "name": "stdout",
     "output_type": "stream",
     "text": [
      "     PassengerId  Survived  Pclass     Sex   Age  SibSp  Parch\n",
      "0              1         0       3    male  22.0      1      0\n",
      "1              2         1       1  female  38.0      1      0\n",
      "2              3         1       3  female  26.0      0      0\n",
      "3              4         1       1  female  35.0      1      0\n",
      "4              5         0       3    male  35.0      0      0\n",
      "..           ...       ...     ...     ...   ...    ...    ...\n",
      "885          886         0       3  female  39.0      0      5\n",
      "886          887         0       2    male  27.0      0      0\n",
      "887          888         1       1  female  19.0      0      0\n",
      "889          890         1       1    male  26.0      0      0\n",
      "890          891         0       3    male  32.0      0      0\n",
      "\n",
      "[699 rows x 7 columns]\n"
     ]
    }
   ],
   "source": [
    "## Eliminamos la columna 'Name'\n",
    "Datos = Datos.drop('Name', axis=1)\n",
    "## Eliminamos la columna 'Cabin'\n",
    "Datos = Datos.drop('Cabin', axis=1)\n",
    "Datos = Datos.drop('Fare', axis=1)\n",
    "Datos = Datos.drop('Embarked', axis=1)\n",
    "Datos = Datos.drop('Ticket', axis=1)\n",
    "## Imprimimos el DataFrame después de eliminar la columna\n",
    "print(Datos)"
   ]
  },
  {
   "cell_type": "code",
   "execution_count": 48,
   "id": "273dfc00-82db-4a12-8499-938d82f4e16b",
   "metadata": {},
   "outputs": [
    {
     "name": "stdout",
     "output_type": "stream",
     "text": [
      "     PassengerId  Survived  Pclass  Sex   Age  SibSp  Parch\n",
      "0              1         0       3  NaN  22.0      1      0\n",
      "1              2         1       1  NaN  38.0      1      0\n",
      "2              3         1       3  NaN  26.0      0      0\n",
      "3              4         1       1  NaN  35.0      1      0\n",
      "4              5         0       3  NaN  35.0      0      0\n",
      "..           ...       ...     ...  ...   ...    ...    ...\n",
      "885          886         0       3  NaN  39.0      0      5\n",
      "886          887         0       2  NaN  27.0      0      0\n",
      "887          888         1       1  NaN  19.0      0      0\n",
      "889          890         1       1  NaN  26.0      0      0\n",
      "890          891         0       3  NaN  32.0      0      0\n",
      "\n",
      "[699 rows x 7 columns]\n"
     ]
    }
   ],
   "source": [
    "## Creamos un diccionario para convertir géneros a números\n",
    "genero_map = {'male': 1, 'female': 2}\n",
    "\n",
    "## Utilizamos map() para convertir géneros a números\n",
    "Datos['Sex'] = Datos['Sex'].map(genero_map)\n",
    "\n",
    "print(Datos)"
   ]
  },
  {
   "cell_type": "code",
   "execution_count": 17,
   "id": "460ad639-bfef-4f14-a51c-5fd24e98f218",
   "metadata": {
    "scrolled": true
   },
   "outputs": [
    {
     "name": "stdout",
     "output_type": "stream",
     "text": [
      "     PassengerId  Pclass  Sex   Age  SibSp  Parch\n",
      "491          492       3    1  21.0      0      0\n",
      "823          824       3    2  27.0      0      1\n",
      "881          882       3    1  33.0      0      0\n",
      "213          214       2    1  30.0      0      0\n",
      "641          642       1    2  24.0      0      0\n",
      "..           ...     ...  ...   ...    ...    ...\n",
      "725          726       3    1  20.0      0      0\n",
      "62            63       1    1  45.0      1      0\n",
      "777          778       3    2   5.0      0      0\n",
      "721          722       3    1  17.0      1      0\n",
      "265          266       2    1  36.0      0      0\n",
      "\n",
      "[524 rows x 6 columns]\n"
     ]
    }
   ],
   "source": [
    "# Porcentaje de datos para entrenamiento (train) = 80% , y para prueba (test) = 20%\n",
    "\n",
    "# Variables X y Y para almacenar la información del entrenamiento:\n",
    "X = Datos.drop('Survived',axis=1) # Se cargan los datos de train sin los datos de la columna Diabetico \n",
    "Y = Datos['Survived'] # Se cargan los datos de train con los datos de la la columna Diabetico\n",
    "\n",
    "#La función train_test_split crea una división de un conjunto de datos en dos bloques uno de entrenamiento y otro de prueba (train and test)\n",
    "X_train, X_test, Y_train, Y_test = train_test_split(X, Y, test_size=0.25, stratify=Y, random_state= 0)\n",
    "\n",
    "print (X_train)"
   ]
  },
  {
   "cell_type": "code",
   "execution_count": 18,
   "id": "cdc723a1-d928-4444-bc03-042b72ccde38",
   "metadata": {},
   "outputs": [
    {
     "name": "stdout",
     "output_type": "stream",
     "text": [
      "491    0\n",
      "823    1\n",
      "881    0\n",
      "213    0\n",
      "641    1\n",
      "      ..\n",
      "725    0\n",
      "62     0\n",
      "777    1\n",
      "721    0\n",
      "265    0\n",
      "Name: Survived, Length: 524, dtype: int64\n"
     ]
    }
   ],
   "source": [
    "print (Y_train)"
   ]
  },
  {
   "cell_type": "code",
   "execution_count": 19,
   "id": "15c29216-03a3-4615-8236-15e30a59c788",
   "metadata": {},
   "outputs": [
    {
     "name": "stdout",
     "output_type": "stream",
     "text": [
      "[1 1 0 1 0 1 0 0 0 1 0 0 0 0 1 1 1 1 0 1 1 0 0 0 0 0 0 1 0 1 1 1 0 0 0 0 1\n",
      " 0 0 0 0 1 0 1 1 0 0 0 0 0 1 0 0 0 0 0 0 0 0 0 0 0 0 1 0 1 0 0 1 1 1 1 1 1\n",
      " 1 0 0 1 1 0 1 1 0 0 0 0 0 0 0 1 1 0 0 0 0 0 1 1 1 0 1 0 1 0 1 1 0 0 0 1 1\n",
      " 0 0 1 0 0 0 1 1 0 0 1 0 0 1 0 0 1 0 0 1 1 1 0 0 1 0 0 0 0 1 1 1 1 0 0 1 0\n",
      " 0 0 1 0 1 0 0 0 0 1 0 0 1 1 0 0 1 0 1 0 0 0 0 0 1 0 1]\n"
     ]
    }
   ],
   "source": [
    "# Construir el modelo de regresión logística \n",
    "modelo_regresion = LogisticRegression(solver = \"liblinear\") # liblinear es una libreria para resolver problemas lineales de clasificación y regresión\n",
    "modelo_regresion.fit (X_train , Y_train)   \n",
    "\n",
    "# Crea el modelo de prediccion\n",
    "Prediccion = modelo_regresion.predict(X_test) # la función predict predice los valores a partir del conjunto de datos de validación\n",
    "# \n",
    "print (Prediccion)"
   ]
  },
  {
   "cell_type": "code",
   "execution_count": 20,
   "id": "68e1874d-aa9d-4d33-87ef-ad5d400095cc",
   "metadata": {},
   "outputs": [
    {
     "name": "stdout",
     "output_type": "stream",
     "text": [
      "              precision    recall  f1-score   support\n",
      "\n",
      "           0       0.89      0.90      0.89       106\n",
      "           1       0.84      0.83      0.83        69\n",
      "\n",
      "    accuracy                           0.87       175\n",
      "   macro avg       0.86      0.86      0.86       175\n",
      "weighted avg       0.87      0.87      0.87       175\n",
      "\n"
     ]
    }
   ],
   "source": [
    "# Desempeño del modelo de regresión\n",
    "print(classification_report(Y_test,Prediccion))"
   ]
  },
  {
   "cell_type": "code",
   "execution_count": 21,
   "id": "0da83d86-07a4-4cda-8bf2-4197c983450c",
   "metadata": {},
   "outputs": [
    {
     "data": {
      "text/plain": [
       "<sklearn.metrics._plot.confusion_matrix.ConfusionMatrixDisplay at 0x17fa208e900>"
      ]
     },
     "execution_count": 21,
     "metadata": {},
     "output_type": "execute_result"
    },
    {
     "data": {
      "image/png": "[encoded data removed]",
      "text/plain": [
       "<Figure size 640x480 with 2 Axes>"
      ]
     },
     "metadata": {},
     "output_type": "display_data"
    }
   ],
   "source": [
    "#Matrix de Confusión del modelo\n",
    "\n",
    "cm=confusion_matrix(Y_test,Prediccion)\n",
    "disp=metrics.ConfusionMatrixDisplay(confusion_matrix=cm)\n",
    "disp.plot()"
   ]
  },
  {
   "cell_type": "code",
   "execution_count": 22,
   "id": "9223ed17-4494-408c-a953-5d17f98b0f36",
   "metadata": {},
   "outputs": [
    {
     "data": {
      "image/png": "[encoded data removed]",
      "text/plain": [
       "<Figure size 640x480 with 1 Axes>"
      ]
     },
     "metadata": {},
     "output_type": "display_data"
    }
   ],
   "source": [
    "# Curva de precisón del modelo\n",
    "\n",
    "from sklearn.metrics import RocCurveDisplay\n",
    "RocCurveDisplay.from_predictions(Y_test, Prediccion)\n",
    "plt.show()"
   ]
  }
 ],
 "metadata": {
  "kernelspec": {
   "display_name": "Python 3 (ipykernel)",
   "language": "python",
   "name": "python3"
  },
  "language_info": {
   "codemirror_mode": {
    "name": "ipython",
    "version": 3
   },
   "file_extension": ".py",
   "mimetype": "text/x-python",
   "name": "python",
   "nbconvert_exporter": "python",
   "pygments_lexer": "ipython3",
   "version": "3.12.7"
  }
 },
 "nbformat": 4,
 "nbformat_minor": 5
}
